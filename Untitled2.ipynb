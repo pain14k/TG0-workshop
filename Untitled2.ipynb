{
  "nbformat": 4,
  "nbformat_minor": 0,
  "metadata": {
    "colab": {
      "provenance": [],
      "authorship_tag": "ABX9TyMpeDLph2/IWr0s3IdzIJ9C",
      "include_colab_link": true
    },
    "kernelspec": {
      "name": "python3",
      "display_name": "Python 3"
    },
    "language_info": {
      "name": "python"
    }
  },
  "cells": [
    {
      "cell_type": "markdown",
      "metadata": {
        "id": "view-in-github",
        "colab_type": "text"
      },
      "source": [
        "<a href=\"https://colab.research.google.com/github/pain14k/TG0-workshop/blob/main/Untitled2.ipynb\" target=\"_parent\"><img src=\"https://colab.research.google.com/assets/colab-badge.svg\" alt=\"Open In Colab\"/></a>"
      ]
    },
    {
      "cell_type": "code",
      "execution_count": 3,
      "metadata": {
        "colab": {
          "base_uri": "https://localhost:8080/"
        },
        "id": "_PMD6gZwEGtJ",
        "outputId": "7308d290-e925-47eb-a358-15c6d1db4f98"
      },
      "outputs": [
        {
          "output_type": "stream",
          "name": "stdout",
          "text": [
            "3\n",
            "<class 'complex'>\n",
            "dict_items([(5, 'hello'), ('a', 6)])\n"
          ]
        }
      ],
      "source": [
        "a=3\n",
        "b=a \n",
        "print (b)\n",
        "x=1.5\n",
        "y=3+2j\n",
        "print (type(y))\n",
        "\n",
        "x=(5,6,23,4.5)\n",
        "list=[]\n",
        "\n",
        "x={5:\"hello\",\"a\":6}\n",
        "print(x.items())"
      ]
    },
    {
      "cell_type": "code",
      "source": [
        "d=10\n",
        "while d>0:\n",
        "  print(d)\n",
        "  d=d-1\n"
      ],
      "metadata": {
        "colab": {
          "base_uri": "https://localhost:8080/"
        },
        "id": "Zi_e47vlKYVw",
        "outputId": "7e7e1db7-4475-4bd7-a972-762be0a4fe76"
      },
      "execution_count": 5,
      "outputs": [
        {
          "output_type": "stream",
          "name": "stdout",
          "text": [
            "10\n",
            "9\n",
            "8\n",
            "7\n",
            "6\n",
            "5\n",
            "4\n",
            "3\n",
            "2\n",
            "1\n"
          ]
        }
      ]
    },
    {
      "cell_type": "code",
      "source": [
        "i#for j in range (a):\n",
        "  #print(j)\n",
        "\n",
        "a=input(\"enter a number\")\n",
        "if type(a) is int:\n",
        "  print(a,\"is int\")\n",
        "elif type(a) is str:\n",
        "  print(\"string\")\n",
        "else:\n",
        "  print(type(a))\n",
        "\n",
        "\n",
        "\n",
        "\n",
        "  a,b=1,2\n",
        "\n",
        "  if a==1 and b==3:\n",
        "    print(a+b)\n",
        "  elif a==1 or b==3:\n",
        "    print(a-b)\n",
        "  else:\n",
        "    print(a)\n",
        "\n",
        "  def my_function(a,b):\n",
        "    print(\"squaring\")\n",
        "    return a^2,b^2\n",
        "\n",
        "#result= my_function(2,3)\n",
        "#print(result)\n",
        "from math import sin,pi\n",
        "result=sin(pi)\n",
        "print(result)"
      ],
      "metadata": {
        "colab": {
          "base_uri": "https://localhost:8080/",
          "height": 261
        },
        "id": "Ts2WrCvWLeCx",
        "outputId": "91e334db-8159-4911-97fc-35b6115e75bd"
      },
      "execution_count": 14,
      "outputs": [
        {
          "output_type": "stream",
          "name": "stdout",
          "text": [
            "enter a numberA\n",
            "string\n"
          ]
        },
        {
          "output_type": "error",
          "ename": "NameError",
          "evalue": "ignored",
          "traceback": [
            "\u001b[0;31m---------------------------------------------------------------------------\u001b[0m",
            "\u001b[0;31mNameError\u001b[0m                                 Traceback (most recent call last)",
            "\u001b[0;32m<ipython-input-14-6b8160e367df>\u001b[0m in \u001b[0;36m<module>\u001b[0;34m\u001b[0m\n\u001b[1;32m     26\u001b[0m     \u001b[0;32mreturn\u001b[0m \u001b[0ma\u001b[0m\u001b[0;34m^\u001b[0m\u001b[0;36m2\u001b[0m\u001b[0;34m,\u001b[0m\u001b[0mb\u001b[0m\u001b[0;34m^\u001b[0m\u001b[0;36m2\u001b[0m\u001b[0;34m\u001b[0m\u001b[0;34m\u001b[0m\u001b[0m\n\u001b[1;32m     27\u001b[0m \u001b[0;34m\u001b[0m\u001b[0m\n\u001b[0;32m---> 28\u001b[0;31m \u001b[0mresult\u001b[0m\u001b[0;34m=\u001b[0m \u001b[0mmy_function\u001b[0m\u001b[0;34m(\u001b[0m\u001b[0;36m2\u001b[0m\u001b[0;34m,\u001b[0m\u001b[0;36m3\u001b[0m\u001b[0;34m)\u001b[0m\u001b[0;34m\u001b[0m\u001b[0;34m\u001b[0m\u001b[0m\n\u001b[0m\u001b[1;32m     29\u001b[0m \u001b[0mprint\u001b[0m\u001b[0;34m(\u001b[0m\u001b[0mresult\u001b[0m\u001b[0;34m)\u001b[0m\u001b[0;34m\u001b[0m\u001b[0;34m\u001b[0m\u001b[0m\n",
            "\u001b[0;31mNameError\u001b[0m: name 'my_function' is not defined"
          ]
        }
      ]
    }
  ]
}